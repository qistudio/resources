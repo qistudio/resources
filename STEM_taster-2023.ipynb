{
 "cells": [
  {
   "cell_type": "markdown",
   "id": "93598907-e978-41a1-85bc-0f3599f80b24",
   "metadata": {},
   "source": [
    "# QUT Data Analytics taster \n",
    "\n",
    "**Andrew Gibson**\n",
    "\n",
    "School of Information Systems, Faculty of Science"
   ]
  },
  {
   "cell_type": "markdown",
   "id": "de73c5f6-bffc-4042-afa1-05305ef85138",
   "metadata": {},
   "source": [
    "# 1 - Introductions\n",
    "\n",
    "* 7 x Groups of 4/5 - at least 1 person who knows Python in each group\n",
    "* Who am I?\n",
    "* Who are you?\n",
    "* What is this taster about?\n",
    "\n",
    "### Agenda\n",
    "\n",
    "1. Introductions, groups, getting logged in\n",
    "2. **Activity 1 - Getting Connected**\n",
    "3. Why open data?\n",
    "4. **Activity 2 - Working with data**\n",
    "5. **Activity 3 - Live data**\n",
    "6. Wrap up\n",
    "7. QUT Ambassador - Why study..."
   ]
  },
  {
   "cell_type": "markdown",
   "id": "fb2015d1-afd4-4acf-95b6-548282f2cb57",
   "metadata": {
    "tags": []
   },
   "source": [
    "# 2 - Activity 1 :: Getting Connected\n",
    "\n",
    "*In this activity, we're going to use our Jupyter notebook environments to connect to other computers on the internet and retrieve information from them. We will explore the difference between HTML (web pages), and JSON from web APIs (Application Programming Interfaces).*"
   ]
  },
  {
   "cell_type": "code",
   "execution_count": null,
   "id": "331354e7-9d62-4807-ad9c-bd8461c64772",
   "metadata": {
    "tags": []
   },
   "outputs": [],
   "source": [
    "# Load some Python packages (libraries) that we will use\n",
    "import requests\n",
    "import json\n",
    "import pandas as pd\n",
    "import plotly.express as px\n",
    "from IPython.core.display import HTML"
   ]
  },
  {
   "cell_type": "markdown",
   "id": "df07abfa-8d4c-4642-ac14-13c3afff23d8",
   "metadata": {
    "tags": []
   },
   "source": [
    "### When we visit a website...\n",
    "[XKCD Comic](https://xkcd.com)\n",
    "\n",
    "### When a computer visits a website...\n",
    "\n",
    "We can program the computer to get information from a remote computer on the internet by initiating an `HTTP request` to the remote computer which will respond to our local computer with an `HTTP response`."
   ]
  },
  {
   "cell_type": "code",
   "execution_count": null,
   "id": "0eb0eddf-735b-41a9-a084-f665a13992ea",
   "metadata": {
    "tags": []
   },
   "outputs": [],
   "source": [
    "# Send a Get request to server and display response\n",
    "\n",
    "response = requests.get(\"http://xkcd.com\")\n",
    "???"
   ]
  },
  {
   "cell_type": "code",
   "execution_count": null,
   "id": "69c23159-8758-43bd-af12-d404ffeb8eef",
   "metadata": {
    "scrolled": true,
    "tags": []
   },
   "outputs": [],
   "source": [
    "# Retreive the content from the response\n",
    "\n",
    "response.???"
   ]
  },
  {
   "cell_type": "markdown",
   "id": "486b02f8-cd2c-4d70-a106-1174f12e33fe",
   "metadata": {
    "tags": []
   },
   "source": [
    "### APIs - Application Programming Interfaces\n",
    "\n",
    "`HTML` is designed for web browsers which render the content into a visual form that is easy for a human to read. But this data is not easy to work with for analysis purposes. However, there are many computers on the internet providing data services for sharing with other computers (not humans directly), and they do this through an `Application Programming Interface` or `API`. \n",
    "\n",
    "We can visit the XKCD API in a browser to see what it gives us:\n",
    "\n",
    "[XKCD API - http://xkcd.com/info.0.json](http://xkcd.com/info.0.json)"
   ]
  },
  {
   "cell_type": "code",
   "execution_count": null,
   "id": "38a64f7b-212a-4919-a84b-5890d7bb2f10",
   "metadata": {
    "tags": []
   },
   "outputs": [],
   "source": [
    "#The URL for the API\n",
    "xkcd_api_url = \"???\"\n",
    "\n",
    "# Make a GET request to the url\n",
    "comic_response = requests.get(???)\n",
    "print(\"Response Status: \",comic_response.status_code)\n",
    "\n",
    "# Load the resulting JSON content in a form that we can use\n",
    "comic_content = json.loads(comic_response.content)\n",
    "???"
   ]
  },
  {
   "cell_type": "markdown",
   "id": "6035d3f2-e0f0-49dc-8c91-a032c7838f55",
   "metadata": {},
   "source": [
    "***NOTE: You can find info on status codes here: [Wikipedia - HTTP status codes](https://en.wikipedia.org/wiki/List_of_HTTP_status_codes). You've probably seen the famous error code before: [404 - Not Found](https://jupyter.qutanalytics.io/show_me_an_error).***"
   ]
  },
  {
   "cell_type": "markdown",
   "id": "17ca8d47-cdf1-4414-bcc3-1c9fe18d8521",
   "metadata": {},
   "source": [
    "#### Do something with the data\n",
    "\n",
    "The data returned by the API is in a structure that we can use..."
   ]
  },
  {
   "cell_type": "code",
   "execution_count": null,
   "id": "2ad67ea7-3537-4881-aea1-c0d0fd40174d",
   "metadata": {},
   "outputs": [],
   "source": [
    "# Find the title of the comic\n",
    "comic_content[???]"
   ]
  },
  {
   "cell_type": "code",
   "execution_count": null,
   "id": "8af7f7aa-fcf6-4415-b558-43968530f797",
   "metadata": {
    "tags": []
   },
   "outputs": [],
   "source": [
    "# Get the value for the 'img' key\n",
    "comic_img = comic_content[???]\n",
    "comic_img"
   ]
  },
  {
   "cell_type": "code",
   "execution_count": null,
   "id": "9a6a2002-6124-4127-84e0-57b5b57bfcda",
   "metadata": {
    "tags": []
   },
   "outputs": [],
   "source": [
    "# Display the content by wrapping it in HTML img tag\n",
    "HTML(f'<img src=\"{comic_img}\"/>')"
   ]
  },
  {
   "cell_type": "markdown",
   "id": "d6434c2e-12ff-4982-8c25-ec1ca42ce85b",
   "metadata": {},
   "source": [
    "### Experiment with JSON from APIs\n",
    "\n",
    "- First create a function that gets json from a URL and returns a Python array or dict\n",
    "- Try your function on: `https://dog.ceo/api/breeds/list/all` - how many breeds of hound are there?"
   ]
  },
  {
   "cell_type": "code",
   "execution_count": null,
   "id": "20b8fe2e-9c83-4599-b13d-76b87c353722",
   "metadata": {},
   "outputs": [],
   "source": [
    "# Function\n",
    "def getDogBreeds(url):\n",
    "    response = requests.get(url)\n",
    "    content = response.content\n",
    "    return json.loads(content)"
   ]
  },
  {
   "cell_type": "code",
   "execution_count": null,
   "id": "22b2acd6-2934-4188-90f2-199b2a670610",
   "metadata": {},
   "outputs": [],
   "source": [
    "# Get the breeds\n",
    "data = getDogBreeds(???)\n",
    "print(\"Data from server:\\n\",???)"
   ]
  },
  {
   "cell_type": "code",
   "execution_count": null,
   "id": "afd114d6-8fb3-405c-a89e-af670480d136",
   "metadata": {
    "scrolled": true,
    "tags": []
   },
   "outputs": [],
   "source": [
    "# Get just the info we need\n",
    "breeds = data['message']\n",
    "\n",
    "for breed in breeds:\n",
    "    print(breed)"
   ]
  },
  {
   "cell_type": "markdown",
   "id": "dd3f0f33-168d-46b9-9c64-0ae85ef7388c",
   "metadata": {},
   "source": [
    "Try answering a question. Like:\n",
    "\n",
    ">how many breeds of `terrier` are there, and what are they?"
   ]
  },
  {
   "cell_type": "code",
   "execution_count": null,
   "id": "f68f47a7-8944-478f-8551-9b9ede0d456b",
   "metadata": {},
   "outputs": [],
   "source": [
    "# Get the breeds\n",
    "breed2find = ???\n",
    "selected = breeds[???]\n",
    "\n",
    "# Calculate the number of breeds and display a list of them\n",
    "print(\"There are\",len(selected),\"breeds of\",breed2find,\":\")\n",
    "for s in selected:\n",
    "    print(\"\\t\",s)"
   ]
  },
  {
   "cell_type": "code",
   "execution_count": null,
   "id": "d21a85f8-a550-44d8-bf1e-5debaa3263c0",
   "metadata": {},
   "outputs": [],
   "source": [
    "# Try with other breeds\n",
    "???"
   ]
  },
  {
   "cell_type": "markdown",
   "id": "ba74f909-5237-4ccd-a5d6-626520235ac9",
   "metadata": {
    "tags": []
   },
   "source": [
    "### Try some other APIs"
   ]
  },
  {
   "cell_type": "markdown",
   "id": "e221999d-069b-455e-8934-2fbc173249d1",
   "metadata": {
    "tags": []
   },
   "source": [
    "Try calling other APIs from these sites...\n",
    "* [toddmotto public APIs](https://github.com/toddmotto/public-apis) *(Tip: start with APIs that don't need authentication)*\n",
    "* [Any API](https://any-api.com)"
   ]
  },
  {
   "cell_type": "markdown",
   "id": "162a5d85-7f06-4123-8815-8365b87b1f96",
   "metadata": {
    "tags": []
   },
   "source": [
    "# 3 - Why open data?"
   ]
  },
  {
   "cell_type": "markdown",
   "id": "608c4d6d-ae25-472f-b3fe-a5bf466b2555",
   "metadata": {
    "tags": []
   },
   "source": [
    "## Data Analytics Big Idea\n",
    "\n",
    "The key big idea of Data Analytics is to: **Address organisational concerns through storytelling with information**\n",
    "\n",
    "1. **CONCERN:** The organisation/business concern or problem understood in the context of the organisation and in relation to the stakeholders.\n",
    "\n",
    "2. **DATA ANALYTICS:** Potential sources of information that exist inside or outside of the organisation or which may be synthesised in order to address a concern. Techniques and processes and tools which can be utilised in analysing available data for the purposes of addressing a concern.\n",
    "\n",
    "4. **MEANING:** Relationships, perspectives, narratives, and understandings that are supported by the data analytics in a way that is meaningful for stakeholders and holds efficacy in addressing a concern.\n",
    "\n",
    "Traditionally, businesses have relied on data *inside* the organsation, but more and more data is becoming available *outside* of the organisation - external data. When data is made available for other individuals or organisations to use, it is known as **Open Data**. Sharing and using open data can result in new [opportunities](https://www2.deloitte.com/content/dam/Deloitte/uk/Documents/deloitte-analytics/open-data-driving-growth-ingenuity-and-innovation.pdf) for business.\n",
    "\n",
    "**What do businesses have to gain by sharing data?**\n",
    "    \n",
    "* Expand customer base\n",
    "* Customer loyalty via transparency - evidence of claims\n",
    "* Knowledge base adds value to business\n",
    "* Product improvement - communication - realtime\n",
    "\n",
    "**What do businesses have to gain by using open data?**\n",
    "\n",
    "* Identify new customers and markets\n",
    "* Identify trends\n",
    "* Guage sentiment of customers\n",
    "* Adjust operations more quickly in response to external events\n",
    "* Competitive knowledge\n"
   ]
  },
  {
   "cell_type": "markdown",
   "id": "2e1e4988-6d7a-43e0-be37-e3239cd88f19",
   "metadata": {
    "jp-MarkdownHeadingCollapsed": true,
    "tags": []
   },
   "source": [
    "### Increasingly data is unstructured or semi-structured\n",
    "\n",
    "Humans can make meaning from data without necessarily having pre-defined structure. In fact we frequently use very ill-defined structures to organise and communicate our thinking. We are also adept at creating these kinds of structures as required, in the moment, rather than requiring the data be structured before we can make sense of it.\n",
    "\n",
    "Computers are not so adept, so complex in the moment sense-making tasks on unstructured data are often easy for humans but very challenging for computers.\n",
    "\n",
    "<img src=\"https://static.boredpanda.com/blog/wp-content/uploads/2016/03/dog-food-comparison-bagel-muffin-lookalike-teenybiscuit-karen-zack-5__700.jpg\">\n",
    "\n",
    "[Puppies or Food (boredpanda.com March 2016)](https://www.boredpanda.com/dog-food-comparison-bagel-muffin-lookalike-teenybiscuit-karen-zack/)"
   ]
  },
  {
   "cell_type": "markdown",
   "id": "7dee5609-c0fa-48a6-b629-4d955cf4e5b0",
   "metadata": {},
   "source": [
    "# 4 - Activity 2 - Working with data\n",
    "\n",
    "*In this activity, we're going to use our Jupyter notebook environments to extract meaningful information from semi-structured data (in JSON format). We will connect to an API to retrieve the JSON data, and then manipulate it to extract useful information.*"
   ]
  },
  {
   "cell_type": "markdown",
   "id": "1c631d32-aa5e-4930-9be2-48db8c3363f8",
   "metadata": {},
   "source": [
    "It's important to understand data in context. Who has collected it? Why? How is it being used? What limitations are there.\n",
    "\n",
    "[Australia - state of the environment report](https://soe.dcceew.gov.au)\n",
    "\n",
    "#### EXPLORE:\n",
    "\n",
    "* Take a look at: `Biodiversity` > `graphs, maps & tables` > `Figure 1: Annual rate of naming, and the accumulation of new species of animals, plants, fungi and protists since 1753`\n",
    "* Explore some data that was used in the report: [2021 SoE Biodiversity The annual rate of naming (blue line) and the time-course of accumulation (shading) of new species of animals, plants, fungi and protists since 1753](https://data.gov.au/data/dataset/2021-soe-bio-078)\n",
    "* Retrieve the data yourself using the code below..."
   ]
  },
  {
   "cell_type": "code",
   "execution_count": null,
   "id": "27b12747-f7bc-483f-b8a6-0e18ae5cf443",
   "metadata": {},
   "outputs": [],
   "source": [
    "# Load data from\n",
    "soe_url = \"https://data.gov.au/data/api/3/action/package_show?id=016a071b-e75d-4eda-9632-661376ed8daf\"\n",
    "content = requests.get(???)\n",
    "soe_data = json.loads(content.???)"
   ]
  },
  {
   "cell_type": "code",
   "execution_count": null,
   "id": "d8e7d5b1-8475-42d8-9e5d-090c82a637d4",
   "metadata": {
    "scrolled": true,
    "tags": []
   },
   "outputs": [],
   "source": [
    "# view the result\n",
    "???"
   ]
  },
  {
   "cell_type": "code",
   "execution_count": null,
   "id": "6db41d23-4e0e-4abf-94a1-daf24d31f67b",
   "metadata": {},
   "outputs": [],
   "source": [
    "# since the result is a dictionary, we can the value for one particular key\n",
    "soe_data[\"result\"][\"notes\"]"
   ]
  },
  {
   "cell_type": "markdown",
   "id": "8214492e-4ad2-499d-a0d5-00774acde620",
   "metadata": {},
   "source": [
    "Display information from the data"
   ]
  },
  {
   "cell_type": "code",
   "execution_count": null,
   "id": "16b11500-829f-421a-90b4-789a30de631c",
   "metadata": {
    "scrolled": true,
    "tags": []
   },
   "outputs": [],
   "source": [
    "# Get the name and URL for the data\n",
    "\n",
    "resource = soe_data[\"result\"][\"resources\"][0]\n",
    "print(\"Name:\",resource[\"name\"])\n",
    "print(\"URL:\",resource[???])\n",
    "print()\n",
    "resource"
   ]
  },
  {
   "cell_type": "markdown",
   "id": "0445ca05-3d10-4985-a5a6-bd82a95015b5",
   "metadata": {},
   "source": [
    "Load information into a `Dataframe`"
   ]
  },
  {
   "cell_type": "code",
   "execution_count": null,
   "id": "cfb8987a-d890-428f-8e7a-6a756d189ee6",
   "metadata": {},
   "outputs": [],
   "source": [
    "# Load the data from the URL into a dataframe\n",
    "\n",
    "df = pd.read_csv(resource['original_url'],index_col='Year')\n",
    "df"
   ]
  },
  {
   "cell_type": "markdown",
   "id": "4d4cf8ac-241e-4ea7-a453-da9aece44a1c",
   "metadata": {},
   "source": [
    "Save information locally (in your Jupyter environment)"
   ]
  },
  {
   "cell_type": "code",
   "execution_count": null,
   "id": "faa0fd5a-e587-437f-a98d-e36dc49c4a84",
   "metadata": {},
   "outputs": [],
   "source": [
    "df.to_csv(\"data.csv\")"
   ]
  },
  {
   "cell_type": "markdown",
   "id": "02de96ee-2b7c-411d-95c9-eb8bc05fc877",
   "metadata": {},
   "source": [
    "Visualise the data"
   ]
  },
  {
   "cell_type": "code",
   "execution_count": null,
   "id": "c7ced3c8-caae-41c3-89ff-176049f034c1",
   "metadata": {},
   "outputs": [],
   "source": [
    "# Create a chart for the dataframe\n",
    "\n",
    "ax = df['Accumulation'].plot()"
   ]
  },
  {
   "cell_type": "code",
   "execution_count": null,
   "id": "523e2be3-6968-4151-8ef3-b5ea73e9c3fc",
   "metadata": {},
   "outputs": [],
   "source": [
    "# Try a more advanced chart\n",
    "\n",
    "# Create charts with more options\n",
    "\n",
    "fig = px.line(df['Accumulation'])\n",
    "fig.show()"
   ]
  },
  {
   "cell_type": "code",
   "execution_count": null,
   "id": "42cc65ac-84de-4540-b20d-c182d5f285b3",
   "metadata": {},
   "outputs": [],
   "source": [
    "# Try adding a title to the chart\n",
    "\n",
    "fig = px.line(df['Accumulation'],title=???,labels={\"value\":???})\n",
    "fig.show()"
   ]
  },
  {
   "cell_type": "markdown",
   "id": "38fbd549-0cb3-4480-8f39-337f07f9fd5d",
   "metadata": {
    "tags": []
   },
   "source": [
    "# 5 - Activity 3 - Real-time Data\n",
    "\n",
    "*In this activity, we're going to use our Jupyter notebook environments to tap data is that is made available in real-time. We will connect to an API to retrieve the data in JSON format, and then explore it to identify how it might be useful.*"
   ]
  },
  {
   "cell_type": "markdown",
   "id": "237c5724-fe50-46f7-a3de-0e4965ac620d",
   "metadata": {},
   "source": [
    "[The Guardian](https://www.theguardian.com/au) is an online news site that provides access to its stories via an API called [The Guardian Open Platform](https://open-platform.theguardian.com)\n",
    "\n",
    "A function can help us search the guardian without repeating code"
   ]
  },
  {
   "cell_type": "code",
   "execution_count": null,
   "id": "f669b9d8-46d9-4fbc-bcc6-e59b9b89e45a",
   "metadata": {},
   "outputs": [],
   "source": [
    "#create a function to search the guardian\n",
    "\n",
    "def searchTheGuardian(search_string,office=\"AUS\",from_date=\"2022-09-26\"):\n",
    "    base_url = 'https://content.guardianapis.com/search?q='\n",
    "    key = \"test\"\n",
    "    url = base_url+'\"'+search_string+'\"'+'&production-office='+office+'&from-date='+from_date+'&api-key='+key\n",
    "    response = requests.get(url)\n",
    "    return json.loads(response.content)"
   ]
  },
  {
   "cell_type": "code",
   "execution_count": null,
   "id": "9471233e-0103-45b0-a8d9-48a35c68b424",
   "metadata": {
    "scrolled": true,
    "tags": []
   },
   "outputs": [],
   "source": [
    "# Try the function searching for Ukraine \n",
    "\n",
    "response_content = searchTheGuardian(\"Ukraine\")\n",
    "response_content"
   ]
  },
  {
   "cell_type": "code",
   "execution_count": null,
   "id": "8b56fe39-4cbb-49cd-a8e9-654f8824ce6d",
   "metadata": {
    "scrolled": true,
    "tags": []
   },
   "outputs": [],
   "source": [
    "# Obtain the results from within the response\n",
    "\n",
    "search_results = response_content['response']['results']\n",
    "search_results"
   ]
  },
  {
   "cell_type": "code",
   "execution_count": null,
   "id": "42982bd4-c16d-4ac4-85e8-c4c491b1c046",
   "metadata": {},
   "outputs": [],
   "source": [
    "# Get the date, title and url for each result\n",
    "\n",
    "for result in search_results:\n",
    "    print(\"Date: \",result['webPublicationDate'])\n",
    "    print(\"Title: \",result['webTitle'])\n",
    "    print(\"Url: \",result['webUrl'])\n",
    "    print()"
   ]
  },
  {
   "cell_type": "code",
   "execution_count": null,
   "id": "dee3c0e1-6530-45ca-a01f-bc03f9863089",
   "metadata": {
    "scrolled": true,
    "tags": []
   },
   "outputs": [],
   "source": [
    "# Using the API URL, we can retrieve the main text of the story\n",
    "\n",
    "# Get the first story\n",
    "page = requests.get(search_results[0]['apiUrl']+'?show-fields=bodyText&api-key=test')\n",
    "json.loads(page.content)['response']['content']['fields']['bodyText']"
   ]
  },
  {
   "cell_type": "markdown",
   "id": "ab43242c-0bde-42db-b86b-c15f34d21477",
   "metadata": {},
   "source": [
    "Using the code above, we can create a more advanced function to do the steps above in a single step"
   ]
  },
  {
   "cell_type": "code",
   "execution_count": null,
   "id": "ea7257e0-e76e-4ab4-bdef-d244bb9e52f6",
   "metadata": {},
   "outputs": [],
   "source": [
    "# Create a function to get the data we need\n",
    "\n",
    "def get_stories(search_results):\n",
    "    stories = []\n",
    "    for result in search_results:\n",
    "        story = {}\n",
    "        story[\"date\"] = result['webPublicationDate']\n",
    "        story[\"title\"] = result['webTitle']\n",
    "        story_url = result['webUrl']\n",
    "        \n",
    "        page = requests.get(search_results[0]['apiUrl']+'?show-fields=bodyText&api-key=test')\n",
    "        story[\"text\"] = json.loads(page.content)['response']['content']['fields']['bodyText']\n",
    "        stories.append(story)\n",
    "    return stories\n"
   ]
  },
  {
   "cell_type": "code",
   "execution_count": null,
   "id": "eca11a28-b2b0-4918-a9cb-b16927b9e912",
   "metadata": {
    "scrolled": true,
    "tags": []
   },
   "outputs": [],
   "source": [
    "# Test our new function with previous search_results\n",
    "\n",
    "ukraine_stories = get_stories(search_results)\n",
    "ukraine_stories"
   ]
  },
  {
   "cell_type": "markdown",
   "id": "995fdec6-d777-479f-8d11-1d25e9e67f9d",
   "metadata": {},
   "source": [
    "We can also create a function to help visualise the information"
   ]
  },
  {
   "cell_type": "code",
   "execution_count": null,
   "id": "b838ceae-b5e7-453b-b9ce-8c1e0166ab49",
   "metadata": {},
   "outputs": [],
   "source": [
    "# Create a function to create HTML with stories for visualisation.\n",
    "\n",
    "def format_stories(stories,heading):\n",
    "    html = \"<h1>{}</h1>\".format(heading)\n",
    "    for story in stories:\n",
    "        html += \"<div>\"\n",
    "        html += \"<h3>{}</h3>\".format(story['title'])\n",
    "        html += \"<p><i>{}</i></p>\".format(story['date'])\n",
    "        html += \"<p>{}</p>\".format(story['text'])\n",
    "        html += \"</div>\"\n",
    "    html += \"<hr/>\"\n",
    "    return html\n",
    "        "
   ]
  },
  {
   "cell_type": "code",
   "execution_count": null,
   "id": "a6025c9e-262a-4958-acd4-e535c075f622",
   "metadata": {
    "scrolled": true,
    "tags": []
   },
   "outputs": [],
   "source": [
    "# Test the function\n",
    "\n",
    "ukraine_html = format_stories(ukraine_stories,\"Ukraine Stories\")\n",
    "ukraine_html"
   ]
  },
  {
   "cell_type": "code",
   "execution_count": null,
   "id": "f89c96c9-f318-41b2-8f98-37ee7fad99b8",
   "metadata": {
    "scrolled": true,
    "tags": []
   },
   "outputs": [],
   "source": [
    "# Display the HTML\n",
    "\n",
    "HTML(ukraine_html)"
   ]
  },
  {
   "cell_type": "markdown",
   "id": "18cb578e-859f-42b3-a4f8-f71b63c7dec5",
   "metadata": {},
   "source": [
    "#### Explore\n",
    "\n",
    "Now that we have functions, we can explore different searches by re-using the function"
   ]
  },
  {
   "cell_type": "code",
   "execution_count": null,
   "id": "e1f29208-1fe7-4c73-b7ab-24d495fbc8d7",
   "metadata": {
    "scrolled": true,
    "tags": []
   },
   "outputs": [],
   "source": [
    "# We can try a new search...\n",
    "\n",
    "search = \"referendum\"\n",
    "\n",
    "referendum_results = searchTheGuardian(search)['response']['results']\n",
    "referendum_stories = get_stories(referendum_results)\n",
    "\n",
    "HTML(format_stories(referendum_stories,search))\n"
   ]
  },
  {
   "cell_type": "code",
   "execution_count": null,
   "id": "97b3c3df-e675-4e86-bc29-4723cb27a208",
   "metadata": {},
   "outputs": [],
   "source": [
    "# Annotate the text for a keyword\n",
    "\n",
    "def format_keyword(stories,heading,keyword):\n",
    "    html = \"<h1>{}</h1>\".format(heading)\n",
    "    for story in stories:\n",
    "        text = story['text']\n",
    "        annotated_text = text.replace(keyword,'<span class=\"keyword\" style=\"background-color:yellow;\">'+keyword+'</span>')\n",
    "        html += \"<div>\"\n",
    "        html += \"<h3>{}</h3>\".format(story['title'])\n",
    "        html += \"<p><i>{}</i></p>\".format(story['date'])\n",
    "        html += \"<p>{}</p>\".format(annotated_text)\n",
    "        html += \"</div>\"\n",
    "    html += \"<hr/>\"\n",
    "    return html"
   ]
  },
  {
   "cell_type": "code",
   "execution_count": null,
   "id": "7f687350-a7fc-49b1-8549-731b5f61c81b",
   "metadata": {
    "scrolled": true,
    "tags": []
   },
   "outputs": [],
   "source": [
    "format_keyword(referendum_stories,\"Referendum Stories\",\"voice\")"
   ]
  },
  {
   "cell_type": "code",
   "execution_count": null,
   "id": "3e12e860-043b-47da-9090-588a31983ba5",
   "metadata": {
    "scrolled": true,
    "tags": []
   },
   "outputs": [],
   "source": [
    "HTML(format_keyword(referendum_stories,\"Referendum Stories\",\"constitution\"))"
   ]
  },
  {
   "cell_type": "markdown",
   "id": "3250d546-e219-4981-aac7-128d530405d6",
   "metadata": {},
   "source": [
    "#### Experiment\n",
    "\n",
    "Try your own searches. You might also try modifying the functions to:\n",
    "\n",
    "- change the search parameters\n",
    "- modify the display of the results"
   ]
  },
  {
   "cell_type": "code",
   "execution_count": null,
   "id": "ee111d05-1b34-4ccc-86d2-ff5d231befe0",
   "metadata": {},
   "outputs": [],
   "source": []
  }
 ],
 "metadata": {
  "kernelspec": {
   "display_name": "Python 3 (ipykernel)",
   "language": "python",
   "name": "python3"
  },
  "language_info": {
   "codemirror_mode": {
    "name": "ipython",
    "version": 3
   },
   "file_extension": ".py",
   "mimetype": "text/x-python",
   "name": "python",
   "nbconvert_exporter": "python",
   "pygments_lexer": "ipython3",
   "version": "3.10.12"
  },
  "vscode": {
   "interpreter": {
    "hash": "79a5fc749465e9a9ba70b8bd2727b5e09bdaec4f285db6cc7b378dfe07fb520a"
   }
  }
 },
 "nbformat": 4,
 "nbformat_minor": 5
}
